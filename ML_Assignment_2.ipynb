{
 "cells": [
  {
   "cell_type": "markdown",
   "id": "48ddc0a6",
   "metadata": {},
   "source": [
    "1. Use a python code to display the following star pattern using the for loop"
   ]
  },
  {
   "cell_type": "code",
   "execution_count": 29,
   "id": "4b920d46",
   "metadata": {},
   "outputs": [
    {
     "name": "stdout",
     "output_type": "stream",
     "text": [
      "Enter the number of rows: 5\n",
      "* \n",
      "* * \n",
      "* * * \n",
      "* * * * \n",
      "* * * * * \n",
      "* * * * \n",
      "* * * \n",
      "* * \n",
      "* \n",
      "\n"
     ]
    }
   ],
   "source": [
    "rows = int(input(\"Enter the number of rows: \"))  \n",
    "for i in range(0, rows): # outer loop to traverse in the upper rows   \n",
    "    for j in range(0, i + 1): # inner loop to print the stars \n",
    "        print(\"*\", end=' ')    \n",
    "    print(\"\") # to enter into a new line\n",
    "for i in range(rows, 0, -1): # outer loop to iterate the lower rows in reverse order\n",
    "    for j in range(0, i - 1): # inner loop to print the stars \n",
    "        print(\"*\", end=' ')  \n",
    "    print(\"\") # to enter into new line"
   ]
  },
  {
   "cell_type": "markdown",
   "id": "674d408f",
   "metadata": {},
   "source": [
    "2. Use looping to output the elements from a provided list present at odd indexes.\n",
    "my_list = [10, 20, 30, 40, 50, 60, 70, 80, 90, 100]"
   ]
  },
  {
   "cell_type": "code",
   "execution_count": 8,
   "id": "abc7149f",
   "metadata": {},
   "outputs": [
    {
     "name": "stdout",
     "output_type": "stream",
     "text": [
      "10\n",
      "30\n",
      "50\n",
      "70\n",
      "90\n"
     ]
    }
   ],
   "source": [
    "my_list = [10, 20, 30, 40, 50, 60, 70, 80, 90, 100]\n",
    "for i in my_list[0::2]: # used slicing to print the odd items by skipping \n",
    "    print(i)"
   ]
  },
  {
   "cell_type": "markdown",
   "id": "09304316",
   "metadata": {},
   "source": [
    "3. Write a code that appends the type of elements from a given list.\n",
    "Input\n",
    " x = [23, ‘Python’, 23.98]\n",
    " \n",
    " Expected output\n",
    " \n",
    " [23, 'Python', 23.98]\n",
    " \n",
    " [<class 'int'>, <class 'str'>, <class 'float'>]"
   ]
  },
  {
   "cell_type": "code",
   "execution_count": 13,
   "id": "6be2a7d0",
   "metadata": {},
   "outputs": [
    {
     "name": "stdout",
     "output_type": "stream",
     "text": [
      "[23, 'Python', 23.98]\n",
      "[<class 'int'>, <class 'str'>, <class 'float'>]\n"
     ]
    }
   ],
   "source": [
    "x = [23, 'Python', 23.98]\n",
    "y = [] # creating an empty list\n",
    "for i in range(len(x)): # for loop to traverse in the list\n",
    "    y.append(type(x[i])) # adding the type of each item into a new string\n",
    "print(x)\n",
    "print(y)"
   ]
  },
  {
   "cell_type": "markdown",
   "id": "e78d0514",
   "metadata": {},
   "source": [
    "4. Write a function that takes a list and returns a new list with unique items of the first list.\n",
    "\n",
    " Sample List: [1,2,3,3,3,3,4,5]\n",
    "\n",
    " Unique List: [1, 2, 3, 4, 5]"
   ]
  },
  {
   "cell_type": "code",
   "execution_count": 21,
   "id": "d091b297",
   "metadata": {},
   "outputs": [
    {
     "name": "stdout",
     "output_type": "stream",
     "text": [
      "[1, 2, 3, 4, 5]\n"
     ]
    }
   ],
   "source": [
    "def sample_list(numbers): # defining a function sample_list with argument numbers\n",
    "    unique_list = [] # create another empty list\n",
    "    for item in numbers :\n",
    "        if item not in unique_list: # using 'not in' to check if the item is already in the list \n",
    "            unique_list.append(item) # to append unique items in the new list 'unique_list'\n",
    "    return unique_list \n",
    "\n",
    "print(sample_list([1, 2, 3, 3, 3, 3, 4, 5])) # calling a function and passing list\n"
   ]
  },
  {
   "cell_type": "markdown",
   "id": "bda2615a",
   "metadata": {},
   "source": [
    "5. Write a function that accepts a string and calculate the number of upper-case letters and lower-case\n",
    "letters.\n",
    "\n",
    "Input String: 'The quick Brow Fox'\n",
    "\n",
    "Expected Output:\n",
    "\n",
    "No. of Upper-case characters: 3\n",
    "\n",
    "No. of Lower-case Characters: 12"
   ]
  },
  {
   "cell_type": "code",
   "execution_count": 30,
   "id": "6f4b3d67",
   "metadata": {},
   "outputs": [
    {
     "name": "stdout",
     "output_type": "stream",
     "text": [
      "No.of Upper-case characters:  3\n",
      "No.of Lower-case characters:  12\n"
     ]
    }
   ],
   "source": [
    "def no_of_upper_lower(input_str): # definjng a function with an argument\n",
    "    count_upper = 0\n",
    "    count_lower = 0\n",
    "    for ch in input_str: # for loop to traverse through the elements in the string\n",
    "        if ch.isupper(): # isupper() function to check for upper case letters\n",
    "            count_upper += 1\n",
    "        elif ch.islower(): # islower() function to check for lower case letters\n",
    "            count_lower += 1\n",
    "    print(\"No.of Upper-case characters: \", count_upper)\n",
    "    print(\"No.of Lower-case characters: \", count_lower)\n",
    "no_of_upper_lower(\"The quick Brow Fox\") # calling the function and passing the string "
   ]
  }
 ],
 "metadata": {
  "kernelspec": {
   "display_name": "Python 3 (ipykernel)",
   "language": "python",
   "name": "python3"
  },
  "language_info": {
   "codemirror_mode": {
    "name": "ipython",
    "version": 3
   },
   "file_extension": ".py",
   "mimetype": "text/x-python",
   "name": "python",
   "nbconvert_exporter": "python",
   "pygments_lexer": "ipython3",
   "version": "3.9.13"
  }
 },
 "nbformat": 4,
 "nbformat_minor": 5
}
