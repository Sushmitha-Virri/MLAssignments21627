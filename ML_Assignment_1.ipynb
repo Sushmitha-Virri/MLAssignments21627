{
 "cells": [
  {
   "cell_type": "markdown",
   "id": "f0f41b55",
   "metadata": {},
   "source": [
    "Question 1\n",
    "\n",
    "The following is a list of 10 students ages:\n",
    "\n",
    "ages = [19, 22, 19, 24, 20, 25, 26, 24, 25, 24]\n",
    "\n",
    "• Sort the list and find the min and max age\n",
    "\n",
    "• Add the min age and the max age again to the list\n",
    "\n",
    "• Find the median age (one middle item or two middle items divided by two)\n",
    "\n",
    "• Find the average age (sum of all items divided by their number)\n",
    "\n",
    "• Find the range of the ages (max minus min)\n",
    "\n"
   ]
  },
  {
   "cell_type": "code",
   "execution_count": 13,
   "id": "36100397",
   "metadata": {},
   "outputs": [
    {
     "name": "stdout",
     "output_type": "stream",
     "text": [
      "ages before sorting:  [19, 22, 19, 24, 20, 25, 26, 24, 25, 24]\n",
      "ages after sorting:  [19, 19, 20, 22, 24, 24, 24, 25, 25, 26]\n",
      "minimum age is:  19\n",
      "maximum age is:  26\n",
      "ages after adding the min and max values:  [19, 19, 19, 20, 22, 24, 24, 24, 25, 25, 26, 26]\n",
      "median age in the given list of ages:  24.0\n",
      "average age in the list of ages:  22.75\n",
      "range of the ages list:  7\n"
     ]
    }
   ],
   "source": [
    "# given list of ages\n",
    "ages = [19, 22, 19, 24, 20, 25, 26, 24, 25, 24]\n",
    "print(\"ages before sorting: \",ages)\n",
    "\n",
    "# sorting the list of ages in ascending order\n",
    "ages.sort() # using the predefined sort() method to sort the elements of the list in ascending order\n",
    "print(\"ages after sorting: \",ages)\n",
    "\n",
    "# finding minimum and maximun values for the list of ages\n",
    "min_value = min(ages) # using built-in min() function to return the smallest age in the list of ages\n",
    "max_value = max(ages) # using built-in max() function to return the largest age in the list of ages\n",
    "print(\"minimum age is: \",min_value) \n",
    "print(\"maximum age is: \",max_value) \n",
    "\n",
    "# adding minimum and maximum values to the ages list\n",
    "ages.insert(0,min_value) # to make the list appear sorted we add the min value at the start of the list by using insert method with index 0\n",
    "ages.append(max_value) # using the append method we add the max value at the end of the list\n",
    "print(\"ages after adding the min and max values: \",ages)\n",
    "\n",
    "# finding the median age\n",
    "mid_index = int(len(ages)/2) # finding the middle index of the list\n",
    "median_age = (ages[mid_index] + ages[len(ages)-mid_index-1]) / 2 # Calculating the median by considering the items of one index in case of odd numbered list and two indices in case of even numbered list\n",
    "print(\"median age in the given list of ages: \",median_age)\n",
    "\n",
    "# finding the average age\n",
    "n = len(ages) # finding the length of ages using len() function\n",
    "sum_ages = sum(ages) # finding the sum of ages using the sum() function\n",
    "average_age = sum_ages/n\n",
    "print(\"average age in the list of ages: \",average_age)\n",
    "\n",
    "# finding the range of the ages\n",
    "print(\"range of the ages list: \", max_value-min_value)\n"
   ]
  },
  {
   "cell_type": "markdown",
   "id": "8be6d685",
   "metadata": {},
   "source": [
    "Question 2\n",
    "\n",
    "• Create an empty dictionary called dog\n",
    "\n",
    "• Add name, color, breed, legs, age to the dog dictionary\n",
    "\n",
    "• Create a student dictionary and add first_name, last_name, gender, age, marital status, skills, country, city and address as keys for the dictionary\n",
    "\n",
    "• Get the length of the student dictionary\n",
    "\n",
    "• Get the value of skills and check the data type, it should be a list\n",
    "\n",
    "• Modify the skills values by adding one or two skills\n",
    "\n",
    "• Get the dictionary keys as a list\n",
    "\n",
    "• Get the dictionary values as a list"
   ]
  },
  {
   "cell_type": "code",
   "execution_count": 7,
   "id": "80a1dfd5",
   "metadata": {},
   "outputs": [
    {
     "name": "stdout",
     "output_type": "stream",
     "text": [
      "Dog dictonary:  {'name': 'Cooper', 'color': 'White', 'breed': 'Samoyed', 'legs': 4, 'age': 5}\n",
      "\n",
      "Student Dictonary:  {'first_name': 'Virri', 'last_name': 'Sushmitha', 'gender': 'Female', 'age': 26, 'marital status': 'married', 'skills': ['C', 'Java', 'Python', 'SQL'], 'country': 'USA', 'city': 'Kansas City', 'Address': 'H.No: 2/3/12, ABC Apartment, Kansas City'}\n",
      "\n",
      "Length of the student dictionary:  9\n",
      "\n",
      "Skills are:  ['C', 'Java', 'Python', 'SQL']\n",
      "\n",
      "Data Type of the skills:  <class 'list'>\n",
      "\n",
      "Skills after modifying:  ['C', 'Java', 'Python', 'SQL', 'Advanced Data Structures', 'C++']\n",
      "\n",
      "Student dictonary keys:  dict_keys(['first_name', 'last_name', 'gender', 'age', 'marital status', 'skills', 'country', 'city', 'Address'])\n",
      "\n",
      "Student dictonary values:  dict_values(['Virri', 'Sushmitha', 'Female', 26, 'married', ['C', 'Java', 'Python', 'SQL', 'Advanced Data Structures', 'C++'], 'USA', 'Kansas City', 'H.No: 2/3/12, ABC Apartment, Kansas City'])\n"
     ]
    }
   ],
   "source": [
    "dog={} # creating empty dictonary dog\n",
    "\n",
    "#Add name, color, breed, legs, age to the dog dictionary\n",
    "dog[\"name\"] = \"Cooper\"\n",
    "dog[\"color\"] = \"White\"\n",
    "dog[\"breed\"] = \"Samoyed\"\n",
    "dog[\"legs\"] = 4\n",
    "dog[\"age\"] = 5\n",
    "print(\"Dog dictonary: \",dog)\n",
    "\n",
    "# Creating a student dictionary and add first_name, last_name, gender, age, marital status,\n",
    "# skills, country, city and address as keys for the dictionary\n",
    "student ={\n",
    "    \"first_name\": \"Virri\",\n",
    "    \"last_name\": \"Sushmitha\",\n",
    "    \"gender\": \"Female\",\n",
    "    \"age\": 26,\n",
    "    \"marital status\": \"married\",\n",
    "    \"skills\": [\"C\", \"Java\", \"Python\", \"SQL\"],\n",
    "    \"country\": \"USA\",\n",
    "    \"city\": \"Kansas City\",\n",
    "    \"Address\": \"H.No: 2/3/12, ABC Apartment, Kansas City\"\n",
    "}\n",
    "print(\"\\nStudent Dictonary: \", student)\n",
    "\n",
    "# length of the student dictionary\n",
    "print(\"\\nLength of the student dictionary: \", len(student)) # using in-built len function to count the length of the dictonary\n",
    "\n",
    "# get the value of the skills key in the student dictonary\n",
    "print(\"\\nSkills are: \", student[\"skills\"])\n",
    "\n",
    "# get the data type of the skills in the student dictonary\n",
    "print(\"\\nData Type of the skills: \",type(student[\"skills\"])) # using type function to find the type of skills key\n",
    "\n",
    "# Modify the skills values by adding one or two skills\n",
    "student[\"skills\"].extend([\"Advanced Data Structures\", \"C++\"]) # adding two more values to the skills key using extend() method\n",
    "print(\"\\nSkills after modifying: \", student[\"skills\"])\n",
    "\n",
    "# Get the dictionary keys as a list\n",
    "student_keys = student.keys() # using in-built keys() method to get all keys from the dictonary.\n",
    "print(\"\\nStudent dictonary keys: \",student_keys )\n",
    "\n",
    "# Get the dictonary values as a list\n",
    "student_values = student.values() # using in-built values() method to get all values from the dictonary.\n",
    "print(\"\\nStudent dictonary values: \", student_values)"
   ]
  },
  {
   "cell_type": "markdown",
   "id": "eadbdd60",
   "metadata": {},
   "source": [
    "Question 3\n",
    "\n",
    "• Create a tuple containing names of your sisters and your brothers (imaginary siblings are \n",
    "fine)\n",
    "\n",
    "• Join brothers and sisters tuples and assign it to siblings\n",
    "\n",
    "• How many siblings do you have?\n",
    "\n",
    "• Modify the siblings tuple and add the name of your father and mother and assign it to family_members"
   ]
  },
  {
   "cell_type": "code",
   "execution_count": 15,
   "id": "1f9debee",
   "metadata": {},
   "outputs": [
    {
     "name": "stdout",
     "output_type": "stream",
     "text": [
      "Siblings tuple:  ('Mary', 'Jenni', 'John', 'Mark')\n",
      "\n",
      "Total number of siblings:  4\n",
      "\n",
      "Family members tuple: ('Mary', 'Jenni', 'John', 'Mark', 'Oliver', 'Emma')\n"
     ]
    }
   ],
   "source": [
    "#Creating a tuple containing names of your sisters and your brothers\n",
    "sisters = (\"Mary\",\"Jenni\")\n",
    "brothers = (\"John\", \"Mark\")\n",
    "\n",
    "#joining sisters and brothers tuple\n",
    "siblings = sisters + brothers\n",
    "print(\"Siblings tuple: \",siblings)\n",
    "\n",
    "#Total siblings\n",
    "print(\"\\nTotal number of siblings: \",len(siblings))\n",
    "\n",
    "#Modify the siblings tuple and add the name of your father and mother and assign it to family_member\n",
    "y = list(siblings) #converting siblings tuple to list using list() constructor as we can't directly modify tuple (as it is immutable)\n",
    "y.append(\"Oliver\") #adding father name\n",
    "y.append(\"Emma\")#adding mother name\n",
    "family_member = tuple(y) #converting list to tuple\n",
    "print(\"\\nFamily members tuple:\",family_member)"
   ]
  },
  {
   "cell_type": "markdown",
   "id": "797f29b4",
   "metadata": {},
   "source": [
    "Question 4\n",
    "\n",
    "it_companies = {'Facebook', 'Google', 'Microsoft', 'Apple', 'IBM', 'Oracle', 'Amazon'}\n",
    "\n",
    "A = {19, 22, 24, 20, 25, 26}\n",
    "\n",
    "B = {19, 22, 20, 25, 26, 24, 28, 27}\n",
    "\n",
    "age = [22, 19, 24, 25, 26, 24, 25, 24]\n",
    "\n",
    "• Find the length of the set it_companies\n",
    "\n",
    "• Add 'Twitter' to it_companies\n",
    "\n",
    "• Insert multiple IT companies at once to the set it_companies\n",
    "\n",
    "• Remove one of the companies from the set it_companies\n",
    "\n",
    "• What is the difference between remove and discard\n",
    "\n",
    "• Join A and B\n",
    "\n",
    "• Find A intersection B\n",
    "\n",
    "• Is A subset of B\n",
    "\n",
    "• Are A and B disjoint sets\n",
    "\n",
    "• Join A with B and B with A\n",
    "\n",
    "• What is the symmetric difference between A and B\n",
    "\n",
    "• Delete the sets completely\n",
    "\n",
    "• Convert the ages to a set and compare the length of the list and the set"
   ]
  },
  {
   "cell_type": "code",
   "execution_count": 32,
   "id": "a647b800",
   "metadata": {},
   "outputs": [
    {
     "name": "stdout",
     "output_type": "stream",
     "text": [
      "Length of the it_companies:  7\n",
      "\n",
      "After adding twitter into the set:  {'Microsoft', 'IBM', 'Facebook', 'Twitter', 'Google', 'Amazon', 'Oracle', 'Apple'}\n",
      "\n",
      "After adding multiple companies into the set:  {'Microsoft', 'IBM', 'Tesla', 'Google', 'Oracle', 'Twitter', 'Apple', 'Walmart Inc.', 'Cisco', 'Amazon', 'Samsung', 'Facebook'}\n",
      "\n",
      "After removing Cisco from the set:  {'Microsoft', 'IBM', 'Tesla', 'Google', 'Oracle', 'Twitter', 'Apple', 'Walmart Inc.', 'Amazon', 'Samsung', 'Facebook'}\n",
      "\n",
      "Set after joining two sets A and B: {19, 20, 22, 24, 25, 26, 27, 28}\n",
      "\n",
      "Intersection of sets A and B: {19, 20, 22, 24, 25, 26}\n",
      "\n",
      "Checking if A is subset of B:  True\n",
      "\n",
      "Checking if A and B are disjoint sets:  False\n",
      "\n",
      "Joining A with B: {19, 20, 22, 24, 25, 26, 27, 28}\n",
      "\n",
      "Joining B with A: {19, 20, 22, 24, 25, 26, 27, 28}\n",
      "\n",
      "Synmmetric difference between A and B:  {27, 28}\n",
      "\n",
      "A and B sets after deleteing:  set() , set()\n",
      "\n",
      "List of ages:  [22, 19, 24, 25, 26, 24, 25, 24]\n",
      "\n",
      "Ages set after converting from list:  {19, 22, 24, 25, 26}\n",
      "\n",
      "length of the age list:  8\n",
      "\n",
      "Length of the age set:  5\n"
     ]
    }
   ],
   "source": [
    "it_companies = {'Facebook', 'Google', 'Microsoft', 'Apple', 'IBM', 'Oracle', 'Amazon'}\n",
    "A = {19, 22, 24, 20, 25, 26}\n",
    "B = {19, 22, 20, 25, 26, 24, 28, 27}\n",
    "age = [22, 19, 24, 25, 26, 24, 25, 24]\n",
    "\n",
    "print(\"Length of the it_companies: \",len(it_companies)) #Finding length of the set\n",
    "\n",
    "it_companies.add('Twitter') # adding twitter into the set\n",
    "print(\"\\nAfter adding twitter into the set: \",it_companies) #set after adding the twitter\n",
    "\n",
    "it_companies.update({'Cisco', 'Tesla','Samsung','Walmart Inc.'}) #inserting multiple company names to  the set\n",
    "print(\"\\nAfter adding multiple companies into the set: \",it_companies) #set after adding companies\n",
    "\n",
    "it_companies.remove(\"Cisco\") #removing item from set using remove function\n",
    "print(\"\\nAfter removing Cisco from the set: \",it_companies)\n",
    "\n",
    "#Difference between discard and remove functions\n",
    "#discard function will not give any error when we remove item which is not in the set whereas\n",
    "# if we try to remove item which is not in the set using remove function it gives error.\n",
    "\n",
    "#Removing item which is not in the set using discard function\n",
    "it_companies.discard(\"Cisco\") # No error\n",
    "\n",
    "#Removing item which is not in the set using remove function\n",
    "#it_companies.remove(\"Cisco\") # KeyError: 'Cisco' \n",
    "\n",
    "#Join A and B sets\n",
    "S =  A.union(B)\n",
    "print(\"\\nSet after joining two sets A and B:\",S)\n",
    "\n",
    "# Intersection of two sets A and B\n",
    "I = A.intersection(B)\n",
    "print(\"\\nIntersection of sets A and B:\",I)\n",
    "\n",
    "#Is A subset of B\n",
    "print(\"\\nChecking if A is subset of B: \", A.issubset(B))\n",
    "\n",
    "#Check if A and B are disjoint sets\n",
    "print(\"\\nChecking if A and B are disjoint sets: \", A.isdisjoint(B))\n",
    "\n",
    "#Join A with B and B with A\n",
    "S = A.union(B)\n",
    "print(\"\\nJoining A with B:\",S )\n",
    "\n",
    "S = B.union(A)\n",
    "print(\"\\nJoining B with A:\",S)\n",
    "\n",
    "#symmetric difference between A and B\n",
    "print( \"\\nSynmmetric difference between A and B: \",A.symmetric_difference(B))\n",
    "\n",
    "#Delete the sets completely\n",
    "A.clear()\n",
    "B.clear()\n",
    "print(\"\\nA and B sets after deleteing: \",A,\",\",B)\n",
    "\n",
    "#Converting the ages to a set and compare the length of the list and the set.\n",
    "print(\"\\nList of ages: \", age)\n",
    "set_ages = set(age)\n",
    "print(\"\\nAges set after converting from list: \", set_ages)\n",
    "#comparing the length of ages list and ages set\n",
    "print(\"\\nlength of the age list: \", len(age))\n",
    "print(\"\\nLength of the age set: \", len(set_ages))\n",
    "if(len(age)==len(set_ages)):\n",
    "    print(\"\\nLength of the age list and age set are not equal\")\n",
    "#Length of the set of ages is less compared to length of list of ages as the set contains only unique values\n"
   ]
  },
  {
   "cell_type": "markdown",
   "id": "9b48d980",
   "metadata": {},
   "source": [
    "Question 5\n",
    "\n",
    "The radius of a circle is 30 meters.\n",
    "\n",
    "• Calculate the area of a circle and assign the value to a variable name of _area_of_circle_\n",
    "\n",
    "• Calculate the circumference of a circle and assign the value to a variable name of\n",
    "_circum_of_circle_\n",
    "\n",
    "• Take radius as user input and calculate the area"
   ]
  },
  {
   "cell_type": "code",
   "execution_count": 17,
   "id": "3c2794ed",
   "metadata": {},
   "outputs": [
    {
     "name": "stdout",
     "output_type": "stream",
     "text": [
      "Enter radius in meters: 30\n",
      "Area of the circle with radius 30 is 2827.4333882308138\n",
      "Circumference of the circle with radius 30 is 188.49555921538757.\n"
     ]
    }
   ],
   "source": [
    "import math # Importing math library to get pi value\n",
    "radius = int(input(\"Enter radius in meters: \")) # Taking radius as input \n",
    "_area_of_circle_ = (math.pi)*radius*radius # finding area of the circle using pi*r*r formula\n",
    "_circum_of_circle_ = 2*(math.pi)*radius # finding circumference of the circle using 2*pi*r formula\n",
    "print(\"Area of the circle with radius {} is {}\\nCircumference of the circle with radius {} is {}.\".format(radius, _area_of_circle_, radius, _circum_of_circle_) )"
   ]
  },
  {
   "cell_type": "markdown",
   "id": "7e87faa4",
   "metadata": {},
   "source": [
    "Question 6\n",
    "\n",
    "“I am a teacher and I love to inspire and teach people”\n",
    "\n",
    "• How many unique words have been used in the sentence? Use the split methods and set \n",
    "to get the unique words"
   ]
  },
  {
   "cell_type": "code",
   "execution_count": 2,
   "id": "9da41bd0",
   "metadata": {},
   "outputs": [
    {
     "name": "stdout",
     "output_type": "stream",
     "text": [
      "Total unique words in the string:  10\n",
      "Unique words in the set:  {'I', 'love', 'to', 'teacher', 'am', 'a', 'teach', 'and', 'people', 'inspire'}\n"
     ]
    }
   ],
   "source": [
    "str1 = \"I am a teacher and I love to inspire and teach people\"\n",
    "unique_words_set = set(str1.split(\" \")) #converting the string to set by splitting at space\n",
    "print(\"Total unique words in the string: \", len(unique_words_set)) #using len() function get total unique words\n",
    "print(\"Unique words in the set: \",unique_words_set) # as we are using set, it considers only"
   ]
  },
  {
   "cell_type": "markdown",
   "id": "a6b74808",
   "metadata": {},
   "source": [
    "Question 7\n",
    "\n",
    "Use a tab escape sequence to get the following lines.\n",
    "\n",
    "Name Age Country City \n",
    "\n",
    "Asabeneh 250 Finland Helsinki"
   ]
  },
  {
   "cell_type": "code",
   "execution_count": 24,
   "id": "d4840fbf",
   "metadata": {},
   "outputs": [
    {
     "name": "stdout",
     "output_type": "stream",
     "text": [
      "Name\tAge\tCountry\tCity\n",
      "Asabeneh\t250\tFinland\tHelsinki\n"
     ]
    }
   ],
   "source": [
    "print('Name\\tAge\\tCountry\\tCity\\nAsabeneh\\t250\\tFinland\\tHelsinki') # adding a tab space"
   ]
  },
  {
   "cell_type": "markdown",
   "id": "0498acb5",
   "metadata": {},
   "source": [
    "Question 8\n",
    "\n",
    "Use the string formatting method to display the following:\n",
    "\n",
    "radius = 10\n",
    "\n",
    "area = 3.14 * radius ** 2\n",
    "\n",
    "“The area of a circle with radius 10 is 314 meters square.”"
   ]
  },
  {
   "cell_type": "code",
   "execution_count": 2,
   "id": "c3de90e5",
   "metadata": {},
   "outputs": [
    {
     "name": "stdout",
     "output_type": "stream",
     "text": [
      "The area of a circle with radius 10 is 314.0  meters square.\n"
     ]
    }
   ],
   "source": [
    "radius = 10\n",
    "pi = 3.14\n",
    "area = pi * radius ** 2 \n",
    "result = 'The area of a circle with radius {} is {}  meters square.'.format(radius,area) #using format function to take the value of the radius and area into the string\n",
    "print(result)"
   ]
  },
  {
   "cell_type": "markdown",
   "id": "dca903a4",
   "metadata": {},
   "source": [
    "Question 9\n",
    "\n",
    "Write a program, which reads weights (lbs.) of N students into a list and convert these weights to \n",
    "kilograms in a separate list using Loop. N: No of students (Read input from user)\n",
    "\n",
    "Ex: L1: [150, 155, 145, 148]\n",
    "\n",
    "Output: [68.03, 70.3, 65.77, 67.13]"
   ]
  },
  {
   "cell_type": "code",
   "execution_count": 28,
   "id": "da0adca7",
   "metadata": {},
   "outputs": [
    {
     "name": "stdout",
     "output_type": "stream",
     "text": [
      "No.of Students:4\n",
      "Enter the weight of students in lbs\n",
      "150\n",
      "145\n",
      "155\n",
      "148\n",
      "List of all students weight in kgs:  [68.0388555, 65.77089365, 70.30681735, 67.13167076]\n"
     ]
    }
   ],
   "source": [
    "n = int(input(\"No.of Students:\")) #taking no.of students as input\n",
    "weight_in_lbs = [] #taking empty list for weight in lbs\n",
    "print(\"Enter the weight of students in lbs\")\n",
    "for i in range(n): #looping and storing values of each student weight in the list\n",
    "    weight_in_lbs.append(int(input()))\n",
    "weight_in_kgs = [] #taking empty list for weight in kgs\n",
    "for i in range(n): #looping and converting each weight into kgs and appending into the list\n",
    "    weight_in_kgs.append(weight_in_lbs[i]* 0.45359237)\n",
    "print(\"List of all students weight in kgs: \", weight_in_kgs)"
   ]
  }
 ],
 "metadata": {
  "kernelspec": {
   "display_name": "Python 3 (ipykernel)",
   "language": "python",
   "name": "python3"
  },
  "language_info": {
   "codemirror_mode": {
    "name": "ipython",
    "version": 3
   },
   "file_extension": ".py",
   "mimetype": "text/x-python",
   "name": "python",
   "nbconvert_exporter": "python",
   "pygments_lexer": "ipython3",
   "version": "3.9.13"
  }
 },
 "nbformat": 4,
 "nbformat_minor": 5
}
